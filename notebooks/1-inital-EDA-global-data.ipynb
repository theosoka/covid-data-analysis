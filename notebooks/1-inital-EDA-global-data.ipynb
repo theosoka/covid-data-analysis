{
 "cells": [
  {
   "cell_type": "code",
   "execution_count": null,
   "id": "initial_id",
   "metadata": {
    "collapsed": true
   },
   "outputs": [],
   "source": [
    "import copy\n",
    "\n",
    "import pandas as pd\n",
    "import numpy as np"
   ]
  },
  {
   "cell_type": "code",
   "execution_count": null,
   "outputs": [],
   "source": [
    "covid_global_data = pd.read_csv(\"../data/WHO-COVID-19-global-data.csv\")"
   ],
   "metadata": {
    "collapsed": false
   },
   "id": "91a0419cd1b86158"
  },
  {
   "cell_type": "code",
   "execution_count": null,
   "outputs": [],
   "source": [
    "covid_global_data.head(20)"
   ],
   "metadata": {
    "collapsed": false
   },
   "id": "c3a0ade2c431b8d5"
  },
  {
   "cell_type": "code",
   "execution_count": null,
   "outputs": [],
   "source": [
    "covid_global_data = covid_global_data.rename(columns=str.upper)"
   ],
   "metadata": {
    "collapsed": false
   },
   "id": "c5b7a3344f149965"
  },
  {
   "cell_type": "code",
   "execution_count": null,
   "outputs": [],
   "source": [
    "covid_global_data.info()"
   ],
   "metadata": {
    "collapsed": false
   },
   "id": "6f64b8ce40a4bc76"
  },
  {
   "cell_type": "code",
   "execution_count": null,
   "outputs": [],
   "source": [
    "covid_global_data.isnull().sum()"
   ],
   "metadata": {
    "collapsed": false
   },
   "id": "5b35e38a1d2d7435"
  },
  {
   "cell_type": "markdown",
   "source": [
    "**Namibia Country_code can be set to NA**(https://countrycode.org/namibia)"
   ],
   "metadata": {
    "collapsed": false
   },
   "id": "661cb2c7cb06a3cc"
  },
  {
   "cell_type": "code",
   "execution_count": null,
   "outputs": [],
   "source": [
    "covid_global_data[covid_global_data.COUNTRY_CODE.isna()]"
   ],
   "metadata": {
    "collapsed": false
   },
   "id": "1f786f31554595c5"
  },
  {
   "cell_type": "code",
   "execution_count": null,
   "outputs": [],
   "source": [
    "covid_global_data[\"COUNTRY_CODE\"] = np.where(covid_global_data[\"COUNTRY\"] == \"Namibia\", \"NA\", covid_global_data[\"COUNTRY_CODE\"])"
   ],
   "metadata": {
    "collapsed": false
   },
   "id": "c25084e24019f54e"
  },
  {
   "cell_type": "code",
   "execution_count": null,
   "outputs": [],
   "source": [
    "covid_global_data.describe()"
   ],
   "metadata": {
    "collapsed": false
   },
   "id": "a83ff3e352c3a368"
  },
  {
   "cell_type": "code",
   "execution_count": null,
   "outputs": [],
   "source": [
    "categorical_columns = [\"COUNTRY_CODE\", \"COUNTRY\", \"WHO_REGION\"]\n",
    "categorical_df = covid_global_data[categorical_columns]\n",
    "categorical_df.nunique()"
   ],
   "metadata": {
    "collapsed": false
   },
   "id": "126c2c6bf7cea545"
  },
  {
   "cell_type": "code",
   "execution_count": null,
   "outputs": [],
   "source": [
    "covid_global_data.DATE_REPORTED = pd.to_datetime(covid_global_data.DATE_REPORTED)"
   ],
   "metadata": {
    "collapsed": false
   },
   "id": "cef8e0cce7cea74d"
  },
  {
   "cell_type": "code",
   "execution_count": null,
   "outputs": [],
   "source": [
    "covid_global_data[\"DAY\"] = covid_global_data[\"DATE_REPORTED\"].dt.day\n",
    "covid_global_data[\"MONTH\"] = covid_global_data[\"DATE_REPORTED\"].dt.month\n",
    "covid_global_data[\"YEAR\"] = covid_global_data[\"DATE_REPORTED\"].dt.year"
   ],
   "metadata": {
    "collapsed": false
   },
   "id": "685470815ac76f32"
  },
  {
   "cell_type": "code",
   "execution_count": null,
   "outputs": [],
   "source": [
    "date_columns_to_move = [\"DAY\", \"MONTH\", \"YEAR\"]\n",
    "other_columns = [col for col in covid_global_data.columns if col not in date_columns_to_move]\n",
    "new_columns_order = date_columns_to_move + other_columns\n",
    "covid_global_data = covid_global_data[new_columns_order]"
   ],
   "metadata": {
    "collapsed": false
   },
   "id": "4a65c98813c14fff"
  },
  {
   "cell_type": "code",
   "execution_count": null,
   "outputs": [],
   "source": [
    "covid_global_data"
   ],
   "metadata": {
    "collapsed": false
   },
   "id": "e0c623d82dac4aac"
  },
  {
   "cell_type": "code",
   "execution_count": null,
   "outputs": [],
   "source": [
    "covid_global_data_series = copy.deepcopy(covid_global_data)\n",
    "covid_global_data_series = covid_global_data_series.set_index(\"DATE_REPORTED\")\n",
    "covid_global_data_series = covid_global_data_series.drop([\"DAY\", \"MONTH\", \"YEAR\"], axis=1)"
   ],
   "metadata": {
    "collapsed": false
   },
   "id": "21d08417f8578560"
  },
  {
   "cell_type": "code",
   "execution_count": null,
   "outputs": [],
   "source": [
    "covid_global_data_series"
   ],
   "metadata": {
    "collapsed": false
   },
   "id": "9ef78bd3fdd74f26"
  },
  {
   "cell_type": "code",
   "execution_count": null,
   "outputs": [],
   "source": [
    "covid_global_data_series.NEW_CASES.resample('W').sum().plot()"
   ],
   "metadata": {
    "collapsed": false
   },
   "id": "9f5c3ef8bc48d117"
  },
  {
   "cell_type": "code",
   "execution_count": null,
   "outputs": [],
   "source": [
    "covid_global_data_series.NEW_DEATHS.resample('W').sum().plot()"
   ],
   "metadata": {
    "collapsed": false
   },
   "id": "2a0bce380ac10364"
  },
  {
   "cell_type": "code",
   "execution_count": null,
   "outputs": [],
   "source": [],
   "metadata": {
    "collapsed": false
   },
   "id": "b5e8aa52dc21dfa3"
  }
 ],
 "metadata": {
  "kernelspec": {
   "display_name": "Python 3",
   "language": "python",
   "name": "python3"
  },
  "language_info": {
   "codemirror_mode": {
    "name": "ipython",
    "version": 2
   },
   "file_extension": ".py",
   "mimetype": "text/x-python",
   "name": "python",
   "nbconvert_exporter": "python",
   "pygments_lexer": "ipython2",
   "version": "2.7.6"
  }
 },
 "nbformat": 4,
 "nbformat_minor": 5
}
