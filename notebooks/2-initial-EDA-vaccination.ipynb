{
 "cells": [
  {
   "cell_type": "code",
   "execution_count": null,
   "id": "initial_id",
   "metadata": {
    "collapsed": true
   },
   "outputs": [],
   "source": [
    "import copy\n",
    "import pandas as pd"
   ]
  },
  {
   "cell_type": "code",
   "execution_count": null,
   "outputs": [],
   "source": [
    "vaccination_data = pd.read_csv(\"../data/vaccination-data.csv\")"
   ],
   "metadata": {
    "collapsed": false
   },
   "id": "aa37f4d6e64cbb8c"
  },
  {
   "cell_type": "code",
   "execution_count": null,
   "outputs": [],
   "source": [
    "vaccination_data.head(5)"
   ],
   "metadata": {
    "collapsed": false
   },
   "id": "9acf1b6349d80a67"
  },
  {
   "cell_type": "code",
   "execution_count": null,
   "outputs": [],
   "source": [
    "vaccination_data.columns = (vaccination_data.columns\n",
    "                .str.replace(\"(?<=[a-z0-9])(?=[A-Z0-9])\", \"_\", regex=True)\n",
    "                .str.upper()\n",
    "             )"
   ],
   "metadata": {
    "collapsed": false
   },
   "id": "317fe259b53df0f2"
  },
  {
   "cell_type": "code",
   "execution_count": null,
   "outputs": [],
   "source": [
    "vaccination_data.info()"
   ],
   "metadata": {
    "collapsed": false
   },
   "id": "1795259437e99ff0"
  },
  {
   "cell_type": "code",
   "execution_count": null,
   "outputs": [],
   "source": [
    "vaccination_data.isnull().sum()"
   ],
   "metadata": {
    "collapsed": false
   },
   "id": "108d205f3780f838"
  },
  {
   "cell_type": "code",
   "execution_count": null,
   "outputs": [],
   "source": [
    "categorical_columns = [\"REPORTING_COUNTRY\", \"REGION\", \"TARGET_GROUP\", \"VACCINE\"]\n",
    "categorical_df = vaccination_data[categorical_columns]\n",
    "categorical_df.nunique()"
   ],
   "metadata": {
    "collapsed": false
   },
   "id": "f838978d5bee659f"
  },
  {
   "cell_type": "code",
   "execution_count": null,
   "outputs": [],
   "source": [
    "vaccination_series = copy.deepcopy(vaccination_data)\n",
    "vaccination_series[\"YEAR_WEEK_ISO\"] = pd.to_datetime(vaccination_series[\"YEAR_WEEK_ISO\"] + \"-1\", format=\"%G-W%V-%u\")\n",
    "vaccination_series.set_index('YEAR_WEEK_ISO', inplace=True)"
   ],
   "metadata": {
    "collapsed": false
   },
   "id": "d39cc4436d3b7d2d"
  },
  {
   "cell_type": "code",
   "execution_count": null,
   "outputs": [],
   "source": [
    "vaccination_series"
   ],
   "metadata": {
    "collapsed": false
   },
   "id": "7dfa98c6e946abf0"
  },
  {
   "cell_type": "code",
   "execution_count": null,
   "outputs": [],
   "source": [
    "vaccination_series.NUMBER_DOSES_RECEIVED.resample('W').sum().plot()"
   ],
   "metadata": {
    "collapsed": false
   },
   "id": "7f600ad87152c877"
  },
  {
   "cell_type": "code",
   "execution_count": null,
   "outputs": [],
   "source": [
    "vaccination_series.NUMBER_DOSES_EXPORTED.resample('W').sum().plot()"
   ],
   "metadata": {
    "collapsed": false
   },
   "id": "d82d2deb3be11a43"
  },
  {
   "cell_type": "code",
   "execution_count": null,
   "outputs": [],
   "source": [
    "vaccination_series[[\"FIRST_DOSE\", \"SECOND_DOSE\", \"DOSE_ADDITIONAL_1\"]].resample(\"W\").sum().plot()"
   ],
   "metadata": {
    "collapsed": false
   },
   "id": "1decb46595c265c1"
  },
  {
   "cell_type": "code",
   "execution_count": null,
   "outputs": [],
   "source": [
    "vaccination_data[[\"FIRST_DOSE\", \"SECOND_DOSE\", \"DOSE_ADDITIONAL_1\"]].sum().plot(kind=\"bar\")"
   ],
   "metadata": {
    "collapsed": false
   },
   "id": "c17b921c2948aacd"
  },
  {
   "cell_type": "code",
   "execution_count": null,
   "outputs": [],
   "source": [
    "vaccination_data[[\"DOSE_ADDITIONAL_2\", \"DOSE_ADDITIONAL_3\"]].sum().plot(kind=\"bar\")"
   ],
   "metadata": {
    "collapsed": false
   },
   "id": "ca81741df819a3da"
  },
  {
   "cell_type": "code",
   "execution_count": null,
   "outputs": [],
   "source": [],
   "metadata": {
    "collapsed": false
   },
   "id": "1ca12cb0276e8f0b"
  }
 ],
 "metadata": {
  "kernelspec": {
   "display_name": "Python 3",
   "language": "python",
   "name": "python3"
  },
  "language_info": {
   "codemirror_mode": {
    "name": "ipython",
    "version": 2
   },
   "file_extension": ".py",
   "mimetype": "text/x-python",
   "name": "python",
   "nbconvert_exporter": "python",
   "pygments_lexer": "ipython2",
   "version": "2.7.6"
  }
 },
 "nbformat": 4,
 "nbformat_minor": 5
}
